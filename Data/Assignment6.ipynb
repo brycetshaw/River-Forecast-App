{
 "cells": [
  {
   "cell_type": "markdown",
   "metadata": {},
   "source": [
    "#### <h1> <center> ENSF 592 Programming Fundamentals for Data Engineers </center></h1>\n",
    "<h2> <center> Assignment 6: Pandas (5 points)</center></h2>\n",
    "\n",
    "<center>\n",
    "<div class=\"alert alert-block alert-info\">\n",
    "Due: Wed Nov 6 12am (midnight, Tue to Wed). To be submitted on D2L.\n",
    "</div></center>\n",
    "\n",
    "\n"
   ]
  },
  {
   "cell_type": "markdown",
   "metadata": {},
   "source": [
    "Edit this file and write your solutions to the problems in sections specified with `# Your solution goes here`. Test your code and when you are ready, download this notebook as an `.ipynb` file and submit it to D2L. To get this file, in Jupyter notebook you can go to File -> Download as -> Notebook(.ipynb)"
   ]
  },
  {
   "cell_type": "code",
   "execution_count": 2,
   "metadata": {
    "pycharm": {
     "is_executing": false
    }
   },
   "outputs": [],
   "source": [
    "import numpy as np\n",
    "import pandas as pd"
   ]
  },
  {
   "cell_type": "markdown",
   "metadata": {},
   "source": [
    "## 1. Pandas Health Report (2 pts)\n",
    "\n",
    "Generate the same report as in Assignment05 PartII, but this time use Pandas dataframe instead of `Table` class. "
   ]
  },
  {
   "cell_type": "code",
   "execution_count": 3,
   "metadata": {
    "pycharm": {
     "is_executing": false
    }
   },
   "outputs": [
    {
     "name": "stdout",
     "text": [
      "Report1\n \tthe average age of patients are:  age    47.767918\ndtype: float64\n\nReport2\n\tfor people with age in range of 20 30 average CHOL is:  187.5\n\tfor people with age in range of 30 40 average CHOL is:  239.6304347826087\n\tfor people with age in range of 40 50 average CHOL is:  250.13131313131314\n\tfor people with age in range of 50 60 average CHOL is:  256.2105263157895\n\nReport3\n\tfor patients with lowest 30% of chol, average trestbps is:  133.22988505747125\n\tfor patients with highest 30% of chol, average trestbps is:  136.09302325581396\n\nReport4\n\t0.89% of patients diagnosed with heart decease are men and  0.11% of them are women\n"
     ],
     "output_type": "stream"
    }
   ],
   "source": [
    "\n",
    "df = pd.read_csv('data.csv', index_col=False, header=0,na_values=\"?\")\n",
    "\n",
    "# report 1\n",
    "print(\"Report1\\n \\tthe average age of patients are: \",df[['age']].mean())\n",
    "\n",
    "# report2\n",
    "print(\"\\nReport2\")\n",
    "\n",
    "    # def rangeSelect(self,column:str,begin:int,end:int):\n",
    "    #     index = self.data.columns.get_loc(column)\n",
    "    #     x = self.data.values\n",
    "    #     df = pd.DataFrame(x)\n",
    "    #     df.dropna(subset=[index])\n",
    "    #     return df.loc[(df[index] >= begin) & (df[index] < end)].values\n",
    "for i in range(20,60,10):\n",
    "    index = df.columns.get_loc('age')\n",
    "    df2 = pd.DataFrame(df.values)\n",
    "    df2.dropna(subset =[index])\n",
    "    print(\"\\tfor people with age in range of\", i,i+10,\"average CHOL is: \",np.nanmean(df2.loc[(df2[index] >= i) & (df2[index] < i+10)].values[:,4]))\n",
    "\n",
    "# report3\n",
    "#  def percentageSelect(self,column:str,perc:float,index:int):\n",
    "     \n",
    "col_index = df.columns.get_loc('chol')\n",
    "df3 = pd.DataFrame(df.values)\n",
    "df3.dropna(subset=[col_index])\n",
    "df3 = df3.sort_values(col_index)\n",
    "num_elements = df3.shape[0]\n",
    "\n",
    "print(\"\\nReport3\")\n",
    "print(\"\\tfor patients with lowest 30% of chol, average trestbps is: \",np.nanmean(df3.head(int(num_elements * 30 / 100)).values[:,3]))\n",
    "print(\"\\tfor patients with highest 30% of chol, average trestbps is: \",np.nanmean(df3.tail(int(num_elements * 30 / 100)).values[:,3])) \n",
    "\n",
    "# report4\n",
    "print(\"\\nReport4\")\n",
    "\n",
    "\n",
    "index = df.columns.get_loc('num')\n",
    "df4 = pd.DataFrame(df.values)\n",
    "df4.dropna(subset=[index])\n",
    "res = df4.loc[df4[index] == 1.0].values\n",
    "\n",
    "men = sum(res[:,1])/res.shape[0]\n",
    "print(\"\\t{0:.2f}% of patients diagnosed with heart decease are men and \".format( men ),\"{0:.2f}% of them are women\".format( 1-men  ))\n"
   ]
  },
  {
   "cell_type": "markdown",
   "metadata": {},
   "source": [
    "## 2. Historical Weather Data (1.5pts)\n",
    "\n",
    "Chapter 5 in https://github.com/jvns/pandas-cookbook  \n",
    "shows how to download historical weather data for Canadian weather stations in a csv file.\n",
    "\n",
    "### Background\n",
    "In the jupyter notebook, we find landing page:  \n",
    "https://climate.weather.gc.ca\n",
    "\n",
    "with a link to interactively search for data:  \n",
    "https://climate.weather.gc.ca/historical_data/search_historic_data_e.html\n",
    "\n",
    "searching for 'Calgary' we find for example Calgary International Airport and can get data for a past date, either hourly or daily data. There is a link to 'Get more data':  \n",
    "https://drive.google.com/drive/folders/1WJCDEU34c60IfOnG4rv5EPZ4IhhW9vZH\n",
    "\n",
    "The Readme.pdf explains the API and all station IDs needed to request the data are listed in Station Inventory EN.xlsx\n",
    "\n",
    "Calgary International Airport has ID 2205 for data up to Jul 2012 and 50430 for data after Jul 2012\n",
    "\n",
    "### Retrieving data\n",
    "As explained in the pandas cookbook notebook, the following code loads data into a pandas dataframe:\n",
    "```python\n",
    "# url string with variables station, year and month\n",
    "url_template = \"https://climate.weather.gc.ca/climate_data/bulk_data_e.html?format=csv&stationID={station}&Year={year}&Month={month}&Day=14&timeframe=1&submit=Download+Data\"\n",
    "\n",
    "# replace variables in string with actual values\n",
    "url = url_template.format(station=2205, year=2001, month=5)\n",
    "\n",
    "# read data into dataframe, use headers and set Date/Time column as index\n",
    "weather_data = pd.read_csv(url, index_col='Date/Time', parse_dates=True)\n",
    "\n",
    "# replace the degree symbol in the column names\n",
    "weather_data.columns = [col.replace('\\xb0', '') for col in weather_data.columns]\n",
    "```\n",
    "\n",
    "Note that replacing `timeframe=1` with `timeframe=2` in the `url_template` will retrieve daily data rather than hourly data and a full year is returned (month is ignored).\n",
    "\n",
    "### Tasks\n",
    "1. Write a function `download_weather_data` that takes station, year and month as arguments and can download either hourly or daily data (daily data by default). Data is returned in a DataFrame with degree symbol removed in column names.\n",
    "\n",
    "2. Compare the amount of snow fall in 1918 and 2018. In which year was the total snowfall higher?\n",
    "\n",
    "3. (Optional) Find another interesting fact in the data, e.g. how many days in a certain year snow was on the ground, hottest summer in the past 5 years, etc.\n",
    "\n",
    "4. (Optional) Download the 'Staion Inventory EN.xlsx' and write a function that allows extracting station IDs by supplying station names."
   ]
  },
  {
   "cell_type": "code",
   "execution_count": 111,
   "metadata": {
    "pycharm": {
     "is_executing": false
    }
   },
   "outputs": [
    {
     "name": "stdout",
     "text": [
      "Snowfall in 2018 was 213.8, in 1918 total snowfall was 70.0,\n but then again the station moved so maybe that was a factor.\n"
     ],
     "output_type": "stream"
    }
   ],
   "source": [
    "# Your solution goes here\n",
    "\n",
    "def download_weather_data(station, year, month=1, daily=True):\n",
    "    \"\"\" returns a DataFrame with weather data from climate.weather.gc.ca\"\"\"\n",
    "    time_frame = 2 if daily else 1\n",
    "    url_template = f\"https://climate.weather.gc.ca/climate_data/bulk_data_e.html?format=csv&stationID={station}&Year={year}&Month={month}&Day=14&timeframe={time_frame}&submit=Download+Data\"\n",
    "    weather_data = pd.read_csv(url_template, index_col='Date/Time', parse_dates=True)\n",
    "    weather_data.columns = [col.replace('\\xb0', '') for col in weather_data.columns]\n",
    "    return weather_data\n",
    "\n",
    " \n",
    "data = download_weather_data(station=2205, year=1918, month=1, daily=True)\n",
    "total_snow = np.nansum(data[['Total Snow (cm)' ]].values)\n",
    "\n",
    "\n",
    "\n",
    "data2 = download_weather_data(station=50430, year=2018, month=1, daily=True)\n",
    "total_snow2 = np.nansum(data2[['Total Snow (cm)' ]].values)\n",
    "\n",
    "print(f\"Snowfall in 2018 was {total_snow2}, in 1918 total snowfall was {total_snow},\\n\"\n",
    "      f\" but then again the station moved so maybe that was a factor.\")"
   ]
  },
  {
   "cell_type": "markdown",
   "metadata": {
    "pycharm": {
     "name": "#%% md\n"
    }
   },
   "source": [
    "## 3. WikiQuotes (1.5pts)\n",
    "\n",
    "Data set from Kaggle: https://www.kaggle.com/fantop/wikiquote-short-english-quotes/data\n",
    "\n",
    "### Tasks\n",
    "1. Read the json file `quotes-100-en.json` into a dictionary using the json module\n",
    "2. Write a function `search_quotes` that takes a string as argument, searches the keys in the quotes dictionary for items containing the search string and prints the matching name (key) and quotes.\n",
    "3. With the function in 2. you can verify that there are quotes for 'Einstein' and 'Feynman'. Ranking by number of quotes, who of the two is ranked higher and what is their respective rank? To answer this question, build a DataFrame with quotes keys in one column and number of quotes in a second column. With this Dataframe:\n",
    "    - Sorting the DataFrame by number of quotes, \n",
    "    - resetting the index \n",
    "    - and finding both individuals the new index shows the rank.\n",
    "4. (optional) Are there any quotes that are equal or close? Look up 'Jaccard index for text similarity', use this index to:\n",
    "    - calculate similarities between quotes\n",
    "    - and define a threshold for calling two quotes 'close'\n",
    "    - output quotes that are close."
   ]
  },
  {
   "cell_type": "code",
   "execution_count": 51,
   "outputs": [],
   "source": [
    "import json\n",
    "import pandas as pd\n",
    "import numpy as np\n",
    "# help(json)"
   ],
   "metadata": {
    "collapsed": false,
    "pycharm": {
     "name": "#%%\n",
     "is_executing": false
    }
   }
  },
  {
   "cell_type": "code",
   "execution_count": 112,
   "metadata": {
    "pycharm": {
     "is_executing": false
    }
   },
   "outputs": [
    {
     "name": "stdout",
     "text": [
      "Albert Einstein\n\n\tThe mass of a body is a measure of its energy content.\n\n\tSometimes one pays most for the things one gets for nothing.\n\n\tI refuse to make money out of my science. My laurel is not for sale like so many bales of cotton.\n\n\tLife is like riding a bicycle. To keep your balance you must keep moving.\n\n\tThe really good music, whether of the East or of the West, cannot be analyzed.\n\n\tI never think of the future. It comes soon enough.\n\n\tOnly a life lived for others is a life worthwhile.\n\n\tForce always attracts men of low morality.\n\n\tAll of science is nothing more than the refinement of everyday thinking.\n\n\tOne may say \"the eternal mystery of the world is its comprehensibility.\"\n\n\tPerfection of means and confusion of goals seem—in my opinion—to characterize our age.\n\n\tWhy is it nobody understands me and everybody likes me?\n\n\tThat is simple, my friend. It is because Politics is more difficult than physics. \n\n\tIt is easier to denature plutonium than it is to denature the evil spirit of man.\n\n\tNever do anything against conscience even if the state demands it. \n\n\tBureaucracy is the death of all sound work.\n\n\tThe state is made for man, not man for the state. And in this respect science resembles the state.\n\n\tI think that only daring speculation can lead us further and not accumulation of facts.\n\n\tThat is simple my friend: because politics is more difficult than physics.\n\n\tTry to become not a man of success, but try rather to become a man of value.\n\n\tI live in that solitude which is painful in youth, but delicious in the years of maturity.\n\n\tMan usually avoids attributing cleverness to somebody else—unless it is an enemy.\n\n\tJoy in looking and comprehending is nature's most beautiful gift.\n\n\tGod does not care about our mathematical difficulties. He integrates empirically.\n\n\tAs far as I'm concerned I prefer silent vice to ostentatious virtue.\n\n\tThe hardest thing in the world to understand is income taxes.\n\n\tI love to travel, but I hate to arrive.\n\n\tOn quantum theory I use up more brain grease (rough translation of German idiom) than on relativity.\n\n\tThen I would have felt sorry for the dear Lord. The theory is correct.\n\n\tIf you want to live a happy life, tie it to a goal, not to people or objects.\n\n\tIf I can't picture it, I can't understand it.\n\n\tWisdom is not a product of schooling but of the lifelong attempt to acquire it.\n\n\tScience is a wonderful thing if one does not have to earn one's living at it.\n\n\tAnonymity is no excuse for stupidity.\n\n\tThe most important tool of the theoretical physicist is his wastebasket.\n\n\tSince others have explained my theory, I can no longer understand it myself.\n\n\tI believe in one thing—that only a life lived for others is a life worth living.\n\n\tPhilosophy is empty if it isn't based on science. Science discovers, philosophy interprets.\n\n\tI believe the main task of the spirit is to free man from his ego.\n\n\tBut then, after all, we are all alike, for we are all derived from the monkey.\n\n\tTo take those fools in clerical garb seriously is to show them too much honor.\n\nBohr–Einstein debates\n\n\tWe, of course, were sure that on that particular debate Bohr was right and Einstein was wrong.\n\nRichard Feynman\n\n\tPrinciplesAll mass is interaction.\n\n\tI had too much stuff. My machines came from too far away.\n\n\tHell, if I could explain it to the average person, it wouldn't have been worth the Nobel prize.\n\n\tA very great deal more truth can become known than can be proven.\n\n\tDo not read so much, look about you and think of what you see there.\n\n\tScience is the belief in the ignorance of experts.\n\n\tEnergy is a very subtle concept. It is very, very difficult to get right.\n\n\tI'd hate to die twice. It's so boring.\n\n\tThis dying is boring.\n\n\tPhysics is to mathematics what sex is to masturbation.\n\n\tThe imagination of nature is far, far greater than the imagination of man.\n\n\tSo far as we know, all the fundamental laws of physics, like Newton’s equations, are reversible.\n\n\tThe same equations have the same solutions\n\n\tI hope … that you will find someday that, after all, it isn’t as horrible as it looks.\n\n\tI think I can safely say that nobody understands quantum mechanics.\n\n\tNature's imagination far surpasses our own.\n\n\tWhy are the theories of physics so similar in their structure?\n\n\tAnd this is medicine?\n\n\tI have to understand the world, you see.\n\n\tJiry, don't worry about anything. Go out and have a good time.\n\n\tThe fact that you are not sure means that it is possible that there is another way someday.\n\nAssociated with 'Einstein' are:\n\tAlbert Einstein, rank 1320, count 41\n\tBohr–Einstein debates, rank 6310, count 1\nCounts attributed to Einstein were: 42\n\nAssociated with 'Feynman' are:\n\tRichard Feynman, rank 2832, count 21\nCounts attributed to Feynman were: 21\n"
     ],
     "output_type": "stream"
    }
   ],
   "source": [
    "import json\n",
    "import requests\n",
    "import os\n",
    "from pprint import pprint\n",
    "\n",
    "\n",
    "\n",
    "# Your solution goes here\n",
    "\n",
    "def search_quotes(name, quotes):\n",
    "    \"\"\"Prints quotes from quotes dictionary containing name in the key.\"\"\"\n",
    "    for key, value in quotes.items():\n",
    "        if name in key:\n",
    "            print(key+ \"\\n\")\n",
    "            for q in quotes[key]:\n",
    "                print(\"\\t\"+ q + \"\\n\")\n",
    "\n",
    "def score_quotes(quotes):\n",
    "    score = {}\n",
    "    for key, values in quotes.items():\n",
    "        score[key] = len(values)\n",
    "    return score\n",
    "        # if (obj[0] == name):\n",
    "        #     for q in obj[0]\n",
    "        #         pprint(q)\n",
    "\n",
    "with open('quotes-100-en.json') as json_file:\n",
    "    data = json.load(json_file)\n",
    "# df = pd.DataFrame(data)\n",
    "\n",
    "# pprint(data)\n",
    "search_quotes(\"Einstein\", data)\n",
    "search_quotes(\"Feynman\", data)\n",
    "score = score_quotes(data)\n",
    "\n",
    "\n",
    "names = ['origin', 'count']\n",
    "array = np.array(list(score.items()))\n",
    "df = pd.DataFrame(array,columns=names).sort_values(by=['count'], ascending=False)\n",
    "df['index'] = np.arange(len(df))\n",
    "# print(score)\n",
    "sum1 = 0\n",
    "print(f\"Associated with 'Einstein' are:\")\n",
    "for line in df[df['origin'].str.contains(\"Einstein\")].values:\n",
    "    sum1 += int(line[1])\n",
    "    print(f\"\\t{line[0]}, rank {line[2]}, count {line[1]}\")\n",
    "print(f\"Counts attributed to Einstein were: {sum1}\")\n",
    "\n",
    "sum2 =0\n",
    "print(f\"\\nAssociated with 'Feynman' are:\")\n",
    "for line in df[df['origin'].str.contains(\"Feynman\")].values:\n",
    "    sum2 += int(line[1])\n",
    "    print(f\"\\t{line[0]}, rank {line[2]}, count {line[1]}\")\n",
    "print(f\"Counts attributed to Feynman were: {sum2}\")\n",
    "    # if \"Einstein\" in key:\n",
    "    #     print(key + \" \")\n",
    "    #     print(score[key])"
   ]
  },
  {
   "cell_type": "markdown",
   "metadata": {},
   "source": [
    "## 4. Some other data (optional)\n",
    "\n",
    "Find a dataset or two on one of these repositories:\n",
    "\n",
    "https://www.kaggle.com/datasets\n",
    "\n",
    "https://archive.ics.uci.edu/ml/index.php\n",
    "\n",
    "https://github.com/iamaziz/PyDataset\n",
    "\n",
    "\n",
    "Load it into Pandas and report on something interesting."
   ]
  },
  {
   "cell_type": "code",
   "execution_count": null,
   "metadata": {},
   "outputs": [],
   "source": []
  }
 ],
 "metadata": {
  "@webio": {
   "lastCommId": null,
   "lastKernelId": null
  },
  "kernelspec": {
   "display_name": "Python 3",
   "language": "python",
   "name": "python3"
  },
  "language_info": {
   "codemirror_mode": {
    "name": "ipython",
    "version": 3
   },
   "file_extension": ".py",
   "mimetype": "text/x-python",
   "name": "python",
   "nbconvert_exporter": "python",
   "pygments_lexer": "ipython3",
   "version": "3.7.4"
  },
  "pycharm": {
   "stem_cell": {
    "cell_type": "raw",
    "source": [],
    "metadata": {
     "collapsed": false
    }
   }
  }
 },
 "nbformat": 4,
 "nbformat_minor": 2
}