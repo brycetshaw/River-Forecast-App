{
 "cells": [
  {
   "cell_type": "code",
   "execution_count": 15,
   "metadata": {
    "collapsed": true,
    "pycharm": {
     "is_executing": false
    }
   },
   "outputs": [],
   "source": [
    "import pandas as pd\n",
    "\n",
    "import csv\n",
    "from itertools import islice\n",
    "\n",
    "def get_row_col(csv_filename, row, col):\n",
    "    with open(csv_filename, 'rt') as f:\n",
    "        return next(islice(csv.reader(f), row, row+1))[col]\n",
    "\n",
    "def import_flow_data(csv_path):\n",
    "    print(get_row_col(csv_path,5,1))\n",
    "    flow_raw = pd.read_csv(csv_path, header=10)\n",
    "    flow_object = DataGroup(get_row_col(csv_path,5,1), get_row_col(csv_path,5,0), flow_raw)\n",
    "    return flow_object\n",
    "\n",
    "# flow_raw = import_flow_data('../Data/Spillimacheen/08NA011_QR_Apr-2-2020_06_01_41PM.csv')\n",
    "    "
   ]
  },
  {
   "cell_type": "code",
   "execution_count": 16,
   "outputs": [],
   "source": [
    "class DataGroup:\n",
    "    def __init__(self, river_gauge_title, river_gauge_id, df_river_flow):\n",
    "        self.river_gauge_title = river_gauge_title\n",
    "        self.river_gauge_id = river_gauge_id\n",
    "        self.df = df_river_flow\n",
    "        print(f\"Created \")\n",
    "    \n",
    "        \n"
   ],
   "metadata": {
    "collapsed": false,
    "pycharm": {
     "name": "#%%\n",
     "is_executing": false
    }
   }
  },
  {
   "cell_type": "code",
   "execution_count": 17,
   "outputs": [
    {
     "name": "stdout",
     "text": [
      "SPILLIMACHEEN RIVER NEAR SPILLIMACHEEN\n"
     ],
     "output_type": "stream"
    }
   ],
   "source": [
    "flow_raw = import_flow_data('../Data/Spillimacheen/08NA011_QR_Apr-2-2020_06_01_41PM.csv')"
   ],
   "metadata": {
    "collapsed": false,
    "pycharm": {
     "name": "#%%\n",
     "is_executing": false
    }
   }
  },
  {
   "cell_type": "code",
   "execution_count": null,
   "outputs": [],
   "source": [
    "\n"
   ],
   "metadata": {
    "collapsed": false,
    "pycharm": {
     "name": "#%%\n"
    }
   }
  }
 ],
 "metadata": {
  "kernelspec": {
   "display_name": "Python 3",
   "language": "python",
   "name": "python3"
  },
  "language_info": {
   "codemirror_mode": {
    "name": "ipython",
    "version": 2
   },
   "file_extension": ".py",
   "mimetype": "text/x-python",
   "name": "python",
   "nbconvert_exporter": "python",
   "pygments_lexer": "ipython2",
   "version": "2.7.6"
  },
  "pycharm": {
   "stem_cell": {
    "cell_type": "raw",
    "source": [],
    "metadata": {
     "collapsed": false
    }
   }
  }
 },
 "nbformat": 4,
 "nbformat_minor": 0
}