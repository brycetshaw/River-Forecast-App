{
 "cells": [
  {
   "cell_type": "code",
   "execution_count": 1,
   "metadata": {
    "collapsed": true,
    "pycharm": {
     "is_executing": false
    }
   },
   "outputs": [],
   "source": [
    "import pandas as pd\n",
    "\n",
    "import csv\n",
    "from itertools import islice\n",
    "\n",
    "def get_row_col(csv_filename, row, col):\n",
    "    with open(csv_filename, 'rt') as f:\n",
    "        return next(islice(csv.reader(f), row, row+1))[col]\n",
    "\n",
    "def import_flow_data(csv_path):\n",
    "    print(get_row_col(csv_path,5,1))\n",
    "    flow_raw = pd.read_csv(csv_path, header=10)\n",
    "    flow_object = DataGroup(get_row_col(csv_path,5,1), get_row_col(csv_path,5,0), flow_raw)\n",
    "    return flow_object\n",
    "\n",
    "# flow_raw = import_flow_data('../Data/Spillimacheen/08NA011_QR_Apr-2-2020_06_01_41PM.csv')\n",
    "    "
   ]
  },
  {
   "cell_type": "code",
   "execution_count": 2,
   "outputs": [],
   "source": [
    "class DataGroup:\n",
    "    def __init__(self, river_gauge_title, river_gauge_id, df_river_flow):\n",
    "        self.river_gauge_title = river_gauge_title\n",
    "        self.river_gauge_id = river_gauge_id\n",
    "        self.df = df_river_flow\n",
    "        print(self.df.info)\n",
    "        print(f\"Created \")\n",
    "    \n",
    "        \n"
   ],
   "metadata": {
    "collapsed": false,
    "pycharm": {
     "name": "#%%\n",
     "is_executing": false
    }
   }
  },
  {
   "cell_type": "code",
   "execution_count": 3,
   "outputs": [
    {
     "name": "stdout",
     "text": [
      "SPILLIMACHEEN RIVER NEAR SPILLIMACHEEN\n"
     ],
     "output_type": "stream"
    }
   ],
   "source": [
    "# flow_raw = import_flow_data('../Data/Spillimacheen/08NA011_QR_Apr-2-2020_06_01_41PM.csv')\n",
    "flow_csv_path = '../Data/Spillimacheen/smaller_river_test_set.csv'\n",
    "\n",
    "flow_df_raw = pd.read_csv(flow_csv_path, header=7, index_col=0)\n",
    "flow_df_raw.drop([\"Parameter \"],axis=1,inplace=True)\n",
    "flow_df_raw.index = pd.to_datetime(flow_df_raw.index)\n",
    "\n",
    "flow = pd.DataFrame()\n",
    "flow['flow {m3/s)'] = flow_df_raw['Value (m3/s)'].resample('H').first()\n",
    "print(get_row_col(flow_csv_path,5,1))\n"
   ],
   "metadata": {
    "collapsed": false,
    "pycharm": {
     "name": "#%%\n",
     "is_executing": false
    }
   }
  },
  {
   "cell_type": "code",
   "execution_count": 4,
   "outputs": [],
   "source": [
    "# snow_pillow_height_path = '../Data/Spillimacheen/snow-pillow-conrad-glacier/DataSetExport-1585850817180.csv'\n",
    "# df_snow = pd.read_csv(snow_pillow_height_path, header=2)\n",
    "\n"
   ],
   "metadata": {
    "collapsed": false,
    "pycharm": {
     "name": "#%%\n",
     "is_executing": false
    }
   }
  },
  {
   "cell_type": "code",
   "execution_count": 13,
   "outputs": [
    {
     "name": "stdout",
     "text": [
      "Value (Centimetres)\n",
      "Value (Celsius)\n",
      "                     Value (Celsius)  Value (Centimetres)  Value (Centimetres)\n",
      "Timestamp (UTC)                                                               \n",
      "2018-11-01 15:00:00             -6.2                156.3                156.3\n",
      "2018-11-01 16:00:00             -6.2                156.3                156.3\n",
      "2018-11-01 17:00:00             -5.9                156.7                156.7\n",
      "2018-11-01 18:00:00             -5.4                156.5                156.5\n",
      "2018-11-01 19:00:00             -4.2                156.6                156.6\n",
      "2018-11-01 20:00:00             -5.0                156.4                156.4\n",
      "2018-11-01 21:00:00             -4.6                156.4                156.4\n",
      "2018-11-01 22:00:00             -4.6                156.2                156.2\n",
      "2018-11-01 23:00:00             -4.7                156.2                156.2\n",
      "2018-11-02 00:00:00             -4.6                156.1                156.1\n"
     ],
     "output_type": "stream"
    }
   ],
   "source": [
    "import os\n",
    "import pytz\n",
    "\n",
    "# MTC = pytz.timezone('MTC')\n",
    "df_snow = pd.DataFrame()\n",
    "folder_to_loop = \"../Data/Spillimacheen/snow-pillow-conrad-glacier\"\n",
    "for root, dirs, files in os.walk(folder_to_loop):\n",
    "    for filename in files:\n",
    "        temp=pd.read_csv(folder_to_loop+'/'+filename, header=2, index_col=0)\n",
    "        temp.index = pd.to_datetime(temp.index)\n",
    "        temp = temp.iloc[:,0:1]\n",
    "        print(temp.columns[0])\n",
    "        if len(df_snow) == 0:\n",
    "            df_snow = temp\n",
    "        df_snow = pd.concat([df_snow,temp], axis=1)\n",
    "        # pd.merge(temp, df_snow, left_index=True)\n",
    "        \n",
    "        # print(filename)\n",
    "df_snow = df_snow[['Value (Celsius)', 'Value (Centimetres)']].dropna()\n",
    "print(df_snow.head(10))"
   ],
   "metadata": {
    "collapsed": false,
    "pycharm": {
     "name": "#%%\n",
     "is_executing": false
    }
   }
  },
  {
   "cell_type": "code",
   "execution_count": 5,
   "outputs": [],
   "source": [
    "\n"
   ],
   "metadata": {
    "collapsed": false,
    "pycharm": {
     "name": "#%%\n",
     "is_executing": false
    }
   }
  }
 ],
 "metadata": {
  "kernelspec": {
   "display_name": "Python 3",
   "language": "python",
   "name": "python3"
  },
  "language_info": {
   "codemirror_mode": {
    "name": "ipython",
    "version": 2
   },
   "file_extension": ".py",
   "mimetype": "text/x-python",
   "name": "python",
   "nbconvert_exporter": "python",
   "pygments_lexer": "ipython2",
   "version": "2.7.6"
  },
  "pycharm": {
   "stem_cell": {
    "cell_type": "raw",
    "source": [],
    "metadata": {
     "collapsed": false
    }
   }
  }
 },
 "nbformat": 4,
 "nbformat_minor": 0
}