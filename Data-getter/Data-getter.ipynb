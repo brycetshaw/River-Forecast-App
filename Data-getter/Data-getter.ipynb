{
 "cells": [
  {
   "cell_type": "code",
   "execution_count": 1,
   "metadata": {
    "collapsed": true,
    "pycharm": {
     "is_executing": false
    }
   },
   "outputs": [],
   "source": [
    "import pandas as pd\n",
    "\n",
    "import csv\n",
    "from itertools import islice\n",
    "\n",
    "def get_row_col(csv_filename, row, col):\n",
    "    with open(csv_filename, 'rt') as f:\n",
    "        return next(islice(csv.reader(f), row, row+1))[col]\n",
    "\n",
    "def import_flow_data(csv_path):\n",
    "    print(get_row_col(csv_path,5,1))\n",
    "    flow_raw = pd.read_csv(csv_path, header=10)\n",
    "    flow_object = DataGroup(get_row_col(csv_path,5,1), get_row_col(csv_path,5,0), flow_raw)\n",
    "    return flow_object\n",
    "\n",
    "# flow_raw = import_flow_data('../Data/Spillimacheen/08NA011_QR_Apr-2-2020_06_01_41PM.csv')\n",
    "    "
   ]
  },
  {
   "cell_type": "code",
   "execution_count": 2,
   "outputs": [],
   "source": [
    "class DataGroup:\n",
    "    def __init__(self, river_gauge_title, river_gauge_id, df_river_flow):\n",
    "        self.river_gauge_title = river_gauge_title\n",
    "        self.river_gauge_id = river_gauge_id\n",
    "        self.df = df_river_flow\n",
    "        print(self.df.info)\n",
    "        print(f\"Created \")\n",
    "    \n",
    "        \n"
   ],
   "metadata": {
    "collapsed": false,
    "pycharm": {
     "name": "#%%\n",
     "is_executing": false
    }
   }
  },
  {
   "cell_type": "code",
   "execution_count": 3,
   "outputs": [
    {
     "name": "stdout",
     "text": [
      "SPILLIMACHEEN RIVER NEAR SPILLIMACHEEN\n"
     ],
     "output_type": "stream"
    }
   ],
   "source": [
    "# flow_raw = import_flow_data('../Data/Spillimacheen/08NA011_QR_Apr-2-2020_06_01_41PM.csv')\n",
    "flow_csv_path = '../Data/Spillimacheen/smaller_river_test_set.csv'\n",
    "\n",
    "flow_df_raw = pd.read_csv(flow_csv_path, header=7, index_col=0)\n",
    "flow_df_raw.drop([\"Parameter \"],axis=1,inplace=True)\n",
    "flow_df_raw.index = pd.to_datetime(flow_df_raw.index)\n",
    "\n",
    "flow = pd.DataFrame()\n",
    "flow['flow {m3/s)'] = flow_df_raw['Value (m3/s)'].resample('H').first()\n",
    "print(get_row_col(flow_csv_path,5,1))\n"
   ],
   "metadata": {
    "collapsed": false,
    "pycharm": {
     "name": "#%%\n",
     "is_executing": false
    }
   }
  },
  {
   "cell_type": "code",
   "execution_count": 4,
   "outputs": [],
   "source": [
    "# snow_pillow_height_path = '../Data/Spillimacheen/snow-pillow-conrad-glacier/DataSetExport-1585850817180.csv'\n",
    "# df_snow = pd.read_csv(snow_pillow_height_path, header=2)\n",
    "\n"
   ],
   "metadata": {
    "collapsed": false,
    "pycharm": {
     "name": "#%%\n",
     "is_executing": false
    }
   }
  },
  {
   "cell_type": "code",
   "execution_count": 13,
   "outputs": [
    {
     "name": "stdout",
     "text": [
      "Value (Centimetres)\n",
      "Value (Celsius)\n",
      "                     Value (Celsius)  Value (Centimetres)  Value (Centimetres)\n",
      "Timestamp (UTC)                                                               \n",
      "2018-11-01 15:00:00             -6.2                156.3                156.3\n",
      "2018-11-01 16:00:00             -6.2                156.3                156.3\n",
      "2018-11-01 17:00:00             -5.9                156.7                156.7\n",
      "2018-11-01 18:00:00             -5.4                156.5                156.5\n",
      "2018-11-01 19:00:00             -4.2                156.6                156.6\n",
      "2018-11-01 20:00:00             -5.0                156.4                156.4\n",
      "2018-11-01 21:00:00             -4.6                156.4                156.4\n",
      "2018-11-01 22:00:00             -4.6                156.2                156.2\n",
      "2018-11-01 23:00:00             -4.7                156.2                156.2\n",
      "2018-11-02 00:00:00             -4.6                156.1                156.1\n"
     ],
     "output_type": "stream"
    }
   ],
   "source": [
    "import os\n",
    "import pytz\n",
    "\n",
    "# MTC = pytz.timezone('MTC')\n",
    "df_snow = pd.DataFrame()\n",
    "folder_to_loop = \"../Data/Spillimacheen/snow-pillow-conrad-glacier\"\n",
    "for root, dirs, files in os.walk(folder_to_loop):\n",
    "    for filename in files:\n",
    "        temp=pd.read_csv(folder_to_loop+'/'+filename, header=2, index_col=0)\n",
    "        temp.index = pd.to_datetime(temp.index)\n",
    "        temp = temp.iloc[:,0:1]\n",
    "        print(temp.columns[0])\n",
    "        if len(df_snow) == 0:\n",
    "            df_snow = temp\n",
    "        df_snow = pd.concat([df_snow,temp], axis=1)\n",
    "        # pd.merge(temp, df_snow, left_index=True)\n",
    "        \n",
    "        # print(filename)\n",
    "df_snow = df_snow[['Value (Celsius)', 'Value (Centimetres)']].dropna()\n",
    "print(df_snow.head(10))"
   ],
   "metadata": {
    "collapsed": false,
    "pycharm": {
     "name": "#%%\n",
     "is_executing": false
    }
   }
  },
  {
   "cell_type": "code",
   "execution_count": 5,
   "outputs": [],
   "source": [
    "import csv\n",
    "from itertools import islice\n",
    "\n",
    "import mysql\n",
    "from mysql.connector import Error\n",
    "import pandas as pd\n",
    "from datetime import datetime\n",
    "import os\n",
    "import pytz\n",
    "import re\n",
    "\n",
    "\n",
    "def create_db_connection():\n",
    "    try:\n",
    "        print(\"trying\")\n",
    "        # TODO Create ENV variables to handle database credentials in a correct way.\n",
    "        # I think I need to use https://direnv.net/\n",
    "        # db_host = env(DB_HOST, 'localhost')\n",
    "        # db_port = env.int(DB_PORT, 3306)\n",
    "        # db_user = env(DB_USER)\n",
    "        # db_pass = env(DB_PASS)\n",
    "        # db_name = env(DB_NAME)\n",
    "        #\n",
    "        # conn = pymysql.connect(db_host,db_user,db_pass,db_name, use_unicode=True, charset=\"utf8\")\n",
    "\n",
    "        connection = mysql.connector.connect(host='162.246.156.171',\n",
    "                                             database='riverapp',\n",
    "                                             user='riverapp',\n",
    "                                             password='riverapp',\n",
    "                                             auth_plugin='mysql_native_password')\n",
    "\n",
    "        print(\"connection attempted\")\n",
    "        if connection.is_connected():\n",
    "            db_Info = connection.get_server_info()\n",
    "            print(\"Connected to MySQL Server version \", db_Info)\n",
    "            cursor = connection.cursor()\n",
    "            cursor.execute(\"select database();\")\n",
    "            record = cursor.fetchone()\n",
    "            cursor.close()\n",
    "            print(f\"You're connected to database: {record}\")\n",
    "            return connection\n",
    "\n",
    "    except Error as e:\n",
    "        print(\"Error while connecting to MySQL\", e)\n",
    "\n",
    "\n",
    "def get_sensors_in_datagroup(cursor, datagroup):\n",
    "    sql = f\"select sensor_id from data_group where data_group_id='{datagroup}'\"\n",
    "\n",
    "    cursor.execute(sql)\n",
    "    result = cursor.fetchall()\n",
    "    return [x[0] for x in result]\n",
    "\n",
    "\n",
    "def query_sensor(db_connection, sensor, start, end):\n",
    "    sql = f\"SELECT * from {sensor} WHERE time > '{start}' && time < '{end}'\"\n",
    "    # cursor.execute(sql)\n",
    "    # result = cursor.fetchall()\n",
    "    result_df = pd.read_sql(sql, db_connection)\n",
    "    return result_df\n",
    "\n",
    "\n",
    "# SELECT sensor_id from 2A33P WHERE time > '2020-02-15 19:00:00' && time < '2020-02-19 17:00:00'\n",
    "\n",
    "def query_database(data_group, start_time, end_time):\n",
    "    db_connection = create_db_connection()\n",
    "    cursor = db_connection.cursor()\n",
    "    sensors = get_sensors_in_datagroup(cursor, data_group)\n",
    "    result = pd.DataFrame()\n",
    "    for sensor in sensors:\n",
    "        temp = query_sensor(db_connection, sensor, start_time, end_time)\n",
    "        temp.index = temp['time']\n",
    "        if result.size is 0:\n",
    "            result = temp\n",
    "        result = result.merge(temp,how='outer', left_index=True,right_index=True, suffixes=('','_y'))\n",
    "        result.drop(list(result.filter(regex='_y$')), axis=1, inplace=True)\n",
    "    return result\n",
    "\n",
    "\n",
    "def main():\n",
    "    result = query_database(\"SPILLIMACHEEN RIVER NEAR SPILLIMACHEEN\", '2020-02-15 19:00:00', '2020-02-19 17:00:00')\n",
    "    print(result)"
   ],
   "metadata": {
    "collapsed": false,
    "pycharm": {
     "name": "#%%\n",
     "is_executing": false
    }
   }
  },
  {
   "cell_type": "code",
   "execution_count": 6,
   "outputs": [
    {
     "name": "stdout",
     "text": [
      "trying\n",
      "connection attempted\n",
      "Connected to MySQL Server version  8.0.19\n",
      "You're connected to database: ('riverapp',)\n"
     ],
     "output_type": "stream"
    }
   ],
   "source": [
    "result = query_database(\"SPILLIMACHEEN RIVER NEAR SPILLIMACHEEN\", '2020-02-15 19:00:00', '2020-02-19 17:00:00')\n"
   ],
   "metadata": {
    "collapsed": false,
    "pycharm": {
     "name": "#%%\n",
     "is_executing": false
    }
   }
  },
  {
   "cell_type": "code",
   "execution_count": null,
   "outputs": [],
   "source": [
    "\n"
   ],
   "metadata": {
    "collapsed": false,
    "pycharm": {
     "name": "#%%\n"
    }
   }
  }
 ],
 "metadata": {
  "kernelspec": {
   "display_name": "Python 3",
   "language": "python",
   "name": "python3"
  },
  "language_info": {
   "codemirror_mode": {
    "name": "ipython",
    "version": 2
   },
   "file_extension": ".py",
   "mimetype": "text/x-python",
   "name": "python",
   "nbconvert_exporter": "python",
   "pygments_lexer": "ipython2",
   "version": "2.7.6"
  },
  "pycharm": {
   "stem_cell": {
    "cell_type": "raw",
    "source": [],
    "metadata": {
     "collapsed": false
    }
   }
  }
 },
 "nbformat": 4,
 "nbformat_minor": 0
}